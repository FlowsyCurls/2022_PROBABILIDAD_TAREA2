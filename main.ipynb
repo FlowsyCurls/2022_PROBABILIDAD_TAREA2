{
 "cells": [
  {
   "cell_type": "code",
   "execution_count": 10,
   "metadata": {},
   "outputs": [
    {
     "data": {
      "image/png": "[encoded data removed]",
      "text/plain": [
       "<Figure size 850.394x340.157 with 1 Axes>"
      ]
     },
     "metadata": {
      "needs_background": "light"
     },
     "output_type": "display_data"
    }
   ],
   "source": [
    "import pandas as pd\n",
    "import matplotlib.pyplot as plt\n",
    "from scipy.stats import geom\n",
    "import numpy as np\n",
    "\n",
    "\n",
    "# AUTOMATICO\n",
    "cm = 1/2.54\n",
    "fig, ax = plt.subplots(figsize=(30*cm, 12*cm))\n",
    "p = 0.5\n",
    "x = np.arange(geom.ppf(0.01, p), geom.ppf(0.99, p))\n",
    "ax.plot(x, geom.pmf(x, p), 'bo', ms=8, label='geom pmf')\n",
    "ax.vlines(x, 0, geom.pmf(x, p), colors='b', lw=5, alpha=0.5)\n",
    "ax.set_title('fmp geom | Moneda Simple')\n",
    "plt.xticks(x)\n",
    "plt.show()\n",
    "\n",
    "\n",
    "# # Calculo de funcion de masa de probabilidad.\n",
    "# p = 0.5\n",
    "# x,y = [],[]\n",
    "# for i in range(1,21):\n",
    "#       x.append(str(i))\n",
    "#       fx = p*(1-p)**(i-1)\n",
    "#       y.append(fx)\n",
    "\n",
    "# data={'# lanzamientos':x, 'f(x)':y} # Prepare data.\n",
    "# df = pd.DataFrame(data = data)      # Load data into DataFrame\n",
    "# # Draw a scatter plot and here size of dots determined by age of person\n",
    "# df.plot.scatter(x = '# lanzamientos', \n",
    "#                 y = 'f(x)', \n",
    "#                 fontsize=12,\n",
    "#                 figsize=[10,6],\n",
    "#                 )\n",
    "# plt.plot()\n",
    "# plt.title(\"\")"
   ]
  },
  {
   "cell_type": "code",
   "execution_count": 17,
   "metadata": {},
   "outputs": [
    {
     "data": {
      "text/plain": [
       "Text(0.5, 1.0, '')"
      ]
     },
     "execution_count": 17,
     "metadata": {},
     "output_type": "execute_result"
    },
    {
     "data": {
      "image/png": "[encoded data removed]",
      "text/plain": [
       "<Figure size 720x432 with 1 Axes>"
      ]
     },
     "metadata": {
      "needs_background": "light"
     },
     "output_type": "display_data"
    }
   ],
   "source": [
    "from scipy.stats import nbinom\n",
    "import matplotlib.pyplot as plt\n",
    "\n",
    "# fig, ax = plt.subplots(figsize=(30*cm, 12*cm))\n",
    "# n, p = 3, 0.3\n",
    "# x = np.arange(nbinom.ppf(0.01, n, p), nbinom.ppf(0.99, n, p))\n",
    "\n",
    "# ax.plot(x, nbinom.pmf(x, n, p), 'bo', color='r', ms=8, label='nbinom pmf')\n",
    "# ax.vlines(x, 0, nbinom.pmf(x, n, p), colors='r', lw=5, alpha=0.4)\n",
    "# ax.set_title('fmp nbinom | Moneda Truco')\n",
    "# plt.xticks(x)\n",
    "# plt.show()\n",
    "\n",
    "# # Calculo de funcion de masa de probabilidad.\n",
    "p, r= 0.3, 3\n",
    "x,y = [],[]\n",
    "for i in range(3,21):\n",
    "      x.append(str(i))\n",
    "      fx = (p**r)*((1-p)**(i-r))\n",
    "      y.append(fx)\n",
    "\n",
    "data={'# lanzamientos':x, 'f(x)':y} # Prepare data.\n",
    "df = pd.DataFrame(data = data)      # Load data into DataFrame\n",
    "# Draw a scatter plot and here size of dots determined by age of person\n",
    "df.plot.scatter(x = '# lanzamientos', \n",
    "                y = 'f(x)', \n",
    "                fontsize=12,\n",
    "                figsize=[10,6],\n",
    "                )\n",
    "plt.plot()\n",
    "plt.title(\"\")"
   ]
  }
 ],
 "metadata": {
  "interpreter": {
   "hash": "409e9466594ad2b05b3243a56daf0c2959e53ee512aeeca6e2f0ff8002f26f46"
  },
  "kernelspec": {
   "display_name": "Python 3.10.2 64-bit",
   "language": "python",
   "name": "python3"
  },
  "language_info": {
   "codemirror_mode": {
    "name": "ipython",
    "version": 3
   },
   "file_extension": ".py",
   "mimetype": "text/x-python",
   "name": "python",
   "nbconvert_exporter": "python",
   "pygments_lexer": "ipython3",
   "version": "3.10.2"
  },
  "orig_nbformat": 4
 },
 "nbformat": 4,
 "nbformat_minor": 2
}
